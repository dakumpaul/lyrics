{
 "cells": [
  {
   "cell_type": "markdown",
   "metadata": {},
   "source": [
    "### Davido: A Lyrical analysis\n",
    "This exercise will pull all the songs by 2Face Idibia on Genius.com and run sentiment analysis on the lyrics to determine the sentiment polatiry for the songs."
   ]
  },
  {
   "cell_type": "code",
   "execution_count": 2,
   "metadata": {},
   "outputs": [],
   "source": [
    "import lyricsgenius\n",
    "import pandas as pd\n",
    "import json\n",
    "import nltk\n",
    "import re\n",
    "import matplotlib.pyplot as plt\n",
    "from wordcloud import WordCloud, STOPWORDS, ImageColorGenerator\n",
    "\n",
    "genius_client_id = 'mM_UqRz1pNsawnzq1KJ9aSrvsz3P6wTLARQNongLrcXZpTiRA25ul_xD5gqQTSDo'\n",
    "genius_secret = 'KyNJWaxnx3TSySHdnnA07E5Abw1G5X--SPz33sBJ65XdQni-UKVOYW8owdH9o2lRH7u9ykvml9_4jEghf7qnZw'\n",
    "genius_token = 'W7RIDSht2rGxPSp4c6R2xwXMeEu6nWJvgedjI_a9ANczFGlkDz6JkHSfkXtsehnH'\n",
    "\n",
    "genius = lyricsgenius.Genius(genius_token)\n",
    "\n",
    "tasha = genius.search_artist(\"tasha cobbs\", sort=\"popularity\")\n",
    "\n",
    "tasha.save_lyrics()\n",
    "\n",
    "with open('Lyrics_TashaCobbsLeonard.json') as json_file:\n",
    "    Artist = json.load(json_file)\n",
    "\n",
    "lyrics = {}\n",
    "for x in range(len(Artist[\"songs\"])):\n",
    "    lyrics[Artist[\"songs\"][x][\"title\"]] = Artist[\"songs\"][x][\"lyrics\"]\n",
    "    \n",
    "wordcloud = WordCloud(width=480, height=480, margin=0).generate(lyrics['Fill me up'])\n",
    "# plot the WordCloud image                        \n",
    "plt.figure(figsize = (8, 8), facecolor = None) \n",
    "plt.imshow(wordcloud) \n",
    "plt.axis(\"off\") \n",
    "plt.tight_layout(pad = 0) \n",
    "\n",
    "plt.show()\n",
    "\n",
    "lyrics_songlist = [] #List of all the songs and their lyrics.\n",
    "for song in lyrics:\n",
    "    temp = [song, lyrics[song]]\n",
    "    lyrics_songlist.append(temp)\n",
    "    \n",
    "import pandas as pd\n",
    "import csv\n",
    "from textblob import TextBlob\n",
    "from textblob.sentiments import NaiveBayesAnalyzer\n",
    "\n",
    "x = 0\n",
    "with open('tasha_scores.csv','w') as f1:\n",
    "    writer=csv.writer(f1, delimiter=',',lineterminator='\\n',)\n",
    "    for song in lyrics:\n",
    "        sent = TextBlob(str(lyrics[song]))\n",
    "        row = (lyrics_songlist[x][0], round(sent.sentiment.polarity,3))\n",
    "        x = x+1\n",
    "        writer.writerow(row)\n",
    "        \n",
    "data = pd.read_csv(\"tasha_scores.csv\",names = ['Song', 'Score'], encoding='latin-1')\n",
    "\n",
    "import matplotlib.pyplot as plt\n",
    "data.sort_values('Score', ascending = True, inplace= True)\n",
    "data.plot(kind='bar',x='Song',y='Score',color='blue')\n",
    "plt.rcParams['figure.figsize'] = [20, 15]\n",
    "plt.grid(b=None, which='major', axis='both')\n",
    "plt.show()"
   ]
  }
 ],
 "metadata": {
  "kernelspec": {
   "display_name": "Python 3",
   "language": "python",
   "name": "python3"
  },
  "language_info": {
   "codemirror_mode": {
    "name": "ipython",
    "version": 3
   },
   "file_extension": ".py",
   "mimetype": "text/x-python",
   "name": "python",
   "nbconvert_exporter": "python",
   "pygments_lexer": "ipython3",
   "version": "3.7.6"
  }
 },
 "nbformat": 4,
 "nbformat_minor": 4
}
